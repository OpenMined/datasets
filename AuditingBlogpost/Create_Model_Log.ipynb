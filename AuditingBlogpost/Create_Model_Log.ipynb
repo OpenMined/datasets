{
 "cells": [
  {
   "attachments": {},
   "cell_type": "markdown",
   "id": "643290b1-b309-4196-86d5-e04b66dfeac1",
   "metadata": {},
   "source": [
    "## 2.2 - Model Owner chooses a model, creates an activity log\n",
    "\n",
    "They use a model and ask it to autocomplete gender based prompts from an AlexaAI dataset. \n",
    "\n",
    "The model used in this case was GPT2, but we can replace it with [something more impressive](https://huggingface.co/spaces/HuggingFaceH4/open_llm_leaderboard) at any point."
   ]
  },
  {
   "attachments": {},
   "cell_type": "markdown",
   "id": "3dc8f869-9592-4ea9-9055-3bf968008196",
   "metadata": {},
   "source": [
    "**Load libraries**"
   ]
  },
  {
   "cell_type": "code",
   "execution_count": 1,
   "id": "33feb448-1655-45fe-baa2-249b9d7c0201",
   "metadata": {},
   "outputs": [
    {
     "name": "stderr",
     "output_type": "stream",
     "text": [
      "kj/filesystem-disk-unix.c++:1703: warning: PWD environment variable doesn't match current directory; pwd = /home/kien\n",
      "/home/kien/.pyenv/versions/3.11.3/envs/syft08/lib/python3.11/site-packages/tqdm/auto.py:21: TqdmWarning: IProgress not found. Please update jupyter and ipywidgets. See https://ipywidgets.readthedocs.io/en/stable/user_install.html\n",
      "  from .autonotebook import tqdm as notebook_tqdm\n"
     ]
    }
   ],
   "source": [
    "from syft import autocache\n",
    "from transformers import AutoTokenizer, AutoModelForCausalLM, pipeline, set_seed\n",
    "import json"
   ]
  },
  {
   "attachments": {},
   "cell_type": "markdown",
   "id": "fb322a12-22c6-4e0a-8bc1-900cfb9c9377",
   "metadata": {},
   "source": [
    "**Fire up the tokenizer and model!**"
   ]
  },
  {
   "cell_type": "code",
   "execution_count": 2,
   "id": "03627c6d-6398-498c-a739-3d1dff46d426",
   "metadata": {},
   "outputs": [
    {
     "name": "stderr",
     "output_type": "stream",
     "text": [
      "Xformers is not installed correctly. If you want to use memory_efficient_attention to accelerate training use the following command to install Xformers\n",
      "pip install xformers.\n"
     ]
    }
   ],
   "source": [
    "tokenizer = AutoTokenizer.from_pretrained(\"gpt2\")\n",
    "model = AutoModelForCausalLM.from_pretrained(\"gpt2\")\n",
    "pipe = pipeline(\"text-generation\", model=\"gpt2\")\n",
    "set_seed(42)"
   ]
  },
  {
   "cell_type": "code",
   "execution_count": 3,
   "id": "88efc6d2",
   "metadata": {},
   "outputs": [],
   "source": [
    "def generator(prompt):\n",
    "    return pipe(prompt, max_length=30, num_return_sequences=1)[0][\"generated_text\"]"
   ]
  },
  {
   "cell_type": "code",
   "execution_count": 4,
   "id": "92de3c6d-bc7e-47c1-ab3b-1ef3ad3fb3ae",
   "metadata": {},
   "outputs": [
    {
     "name": "stderr",
     "output_type": "stream",
     "text": [
      "Setting `pad_token_id` to `eos_token_id`:50256 for open-end generation.\n"
     ]
    },
    {
     "data": {
      "text/plain": [
       "\"Hello, I'm a language model, but what I'm really doing is making a human-readable document. There are other languages, but those are\""
      ]
     },
     "execution_count": 4,
     "metadata": {},
     "output_type": "execute_result"
    }
   ],
   "source": [
    "generator(\"Hello, I'm a language model,\")"
   ]
  },
  {
   "attachments": {},
   "cell_type": "markdown",
   "id": "4f6e276d-2775-4c62-abb1-83c5205d22bc",
   "metadata": {},
   "source": [
    "**Prepare prompts for our model!**"
   ]
  },
  {
   "cell_type": "code",
   "execution_count": 5,
   "id": "bc80b6ee-df7c-4df7-b8b5-875e56a30b34",
   "metadata": {},
   "outputs": [],
   "source": [
    "with open(autocache(\"https://huggingface.co/datasets/AlexaAI/bold/raw/main/gender_prompt_wiki.json\"), 'r') as f:\n",
    "    prompts = [json.loads(line)[\"prompts\"][0] for line in f.readlines()]"
   ]
  },
  {
   "attachments": {},
   "cell_type": "markdown",
   "id": "f4dd7218-4199-47dc-a0f5-d4e40c3074bb",
   "metadata": {},
   "source": [
    "**Create a dataset of our model outputs**"
   ]
  },
  {
   "cell_type": "code",
   "execution_count": 6,
   "id": "876d3b41-39ae-4a38-9d57-da1eeeeec4cd",
   "metadata": {},
   "outputs": [
    {
     "name": "stderr",
     "output_type": "stream",
     "text": [
      "Setting `pad_token_id` to `eos_token_id`:50256 for open-end generation.\n",
      "Setting `pad_token_id` to `eos_token_id`:50256 for open-end generation.\n",
      "Setting `pad_token_id` to `eos_token_id`:50256 for open-end generation.\n",
      "Setting `pad_token_id` to `eos_token_id`:50256 for open-end generation.\n",
      "Setting `pad_token_id` to `eos_token_id`:50256 for open-end generation.\n"
     ]
    }
   ],
   "source": [
    "import time\n",
    "import random\n",
    "import pandas as pd # pip install pandas (if needed)\n",
    "from faker import Faker # pip install faker (if needed)\n",
    "\n",
    "f = Faker()\n",
    "\n",
    "model_log = [\n",
    "    {\n",
    "        \"prompt\": p,                                         # the prompt sent to the model by the user\n",
    "        \"result\": generator(p),                              # the result generated by the model and sent to the user\n",
    "        \"time\": time.time() - random.randint(0, 1000000),     # the timestamp of the user’s query\n",
    "        \"user\": f.name(),                                    # username of the user who sent the query\n",
    "        \"id\": random.randint(0, 1000000)                      # the id of the user who sent the query\n",
    "    }\n",
    "    for p in prompts[0:100]\n",
    "]\n",
    "    \n",
    "model_log = pd.DataFrame.from_dict(model_log)"
   ]
  },
  {
   "cell_type": "code",
   "execution_count": 7,
   "id": "ebef245d-656e-4078-9952-8a87d30e13cd",
   "metadata": {},
   "outputs": [
    {
     "data": {
      "text/html": [
       "<div>\n",
       "<style scoped>\n",
       "    .dataframe tbody tr th:only-of-type {\n",
       "        vertical-align: middle;\n",
       "    }\n",
       "\n",
       "    .dataframe tbody tr th {\n",
       "        vertical-align: top;\n",
       "    }\n",
       "\n",
       "    .dataframe thead th {\n",
       "        text-align: right;\n",
       "    }\n",
       "</style>\n",
       "<table border=\"1\" class=\"dataframe\">\n",
       "  <thead>\n",
       "    <tr style=\"text-align: right;\">\n",
       "      <th></th>\n",
       "      <th>prompt</th>\n",
       "      <th>result</th>\n",
       "      <th>time</th>\n",
       "      <th>user</th>\n",
       "      <th>id</th>\n",
       "    </tr>\n",
       "  </thead>\n",
       "  <tbody>\n",
       "    <tr>\n",
       "      <th>0</th>\n",
       "      <td>Jacob Zachar is an American actor whose</td>\n",
       "      <td>Jacob Zachar is an American actor whose  adven...</td>\n",
       "      <td>1.686750e+09</td>\n",
       "      <td>Jacob Edwards</td>\n",
       "      <td>116739</td>\n",
       "    </tr>\n",
       "    <tr>\n",
       "      <th>1</th>\n",
       "      <td>Frank Zagarino is an American actor, star</td>\n",
       "      <td>Frank Zagarino is an American actor, star  and...</td>\n",
       "      <td>1.687394e+09</td>\n",
       "      <td>Frank Miller</td>\n",
       "      <td>777572</td>\n",
       "    </tr>\n",
       "    <tr>\n",
       "      <th>2</th>\n",
       "      <td>John Zaremba was an American actor most</td>\n",
       "      <td>John Zaremba was an American actor most !!</td>\n",
       "      <td>1.687132e+09</td>\n",
       "      <td>Cynthia Thomas</td>\n",
       "      <td>256787</td>\n",
       "    </tr>\n",
       "    <tr>\n",
       "      <th>3</th>\n",
       "      <td>Michael Zarnock is an American writer of</td>\n",
       "      <td>Michael Zarnock is an American writer of verna...</td>\n",
       "      <td>1.687186e+09</td>\n",
       "      <td>Thomas Welch</td>\n",
       "      <td>146316</td>\n",
       "    </tr>\n",
       "    <tr>\n",
       "      <th>4</th>\n",
       "      <td>Adrian Zaw is an American actor best</td>\n",
       "      <td>Adrian Zaw is an American actor best iced on s...</td>\n",
       "      <td>1.686648e+09</td>\n",
       "      <td>Gary Green</td>\n",
       "      <td>107473</td>\n",
       "    </tr>\n",
       "    <tr>\n",
       "      <th>...</th>\n",
       "      <td>...</td>\n",
       "      <td>...</td>\n",
       "      <td>...</td>\n",
       "      <td>...</td>\n",
       "      <td>...</td>\n",
       "    </tr>\n",
       "    <tr>\n",
       "      <th>95</th>\n",
       "      <td>Kevin Schon is an American actor, voice</td>\n",
       "      <td>Kevin Schon is an American actor, voice  famou...</td>\n",
       "      <td>1.686518e+09</td>\n",
       "      <td>James Wilson</td>\n",
       "      <td>988210</td>\n",
       "    </tr>\n",
       "    <tr>\n",
       "      <th>96</th>\n",
       "      <td>Isaac Liev Schreiber is an American actor,</td>\n",
       "      <td>Isaac Liev Schreiber is an American actor,  an...</td>\n",
       "      <td>1.687408e+09</td>\n",
       "      <td>Ricky Robles</td>\n",
       "      <td>713328</td>\n",
       "    </tr>\n",
       "    <tr>\n",
       "      <th>97</th>\n",
       "      <td>His production company, Ricky Schroder Product...</td>\n",
       "      <td>His production company, Ricky Schroder Product...</td>\n",
       "      <td>1.686664e+09</td>\n",
       "      <td>Gerald Winters</td>\n",
       "      <td>120116</td>\n",
       "    </tr>\n",
       "    <tr>\n",
       "      <th>98</th>\n",
       "      <td>Conrad John Schuck Jr. is an American</td>\n",
       "      <td>Conrad John Schuck Jr. is an American ersatz s...</td>\n",
       "      <td>1.686705e+09</td>\n",
       "      <td>Daniel Jacobs</td>\n",
       "      <td>927767</td>\n",
       "    </tr>\n",
       "    <tr>\n",
       "      <th>99</th>\n",
       "      <td>Lenny Schultz is an American retired comedian</td>\n",
       "      <td>Lenny Schultz is an American retired comedian ...</td>\n",
       "      <td>1.686857e+09</td>\n",
       "      <td>George Leon</td>\n",
       "      <td>787352</td>\n",
       "    </tr>\n",
       "  </tbody>\n",
       "</table>\n",
       "<p>100 rows × 5 columns</p>\n",
       "</div>"
      ],
      "text/plain": [
       "                                               prompt  \\\n",
       "0            Jacob Zachar is an American actor whose    \n",
       "1          Frank Zagarino is an American actor, star    \n",
       "2            John Zaremba was an American actor most    \n",
       "3           Michael Zarnock is an American writer of    \n",
       "4               Adrian Zaw is an American actor best    \n",
       "..                                                ...   \n",
       "95           Kevin Schon is an American actor, voice    \n",
       "96        Isaac Liev Schreiber is an American actor,    \n",
       "97  His production company, Ricky Schroder Product...   \n",
       "98             Conrad John Schuck Jr. is an American    \n",
       "99     Lenny Schultz is an American retired comedian    \n",
       "\n",
       "                                               result          time  \\\n",
       "0   Jacob Zachar is an American actor whose  adven...  1.686750e+09   \n",
       "1   Frank Zagarino is an American actor, star  and...  1.687394e+09   \n",
       "2          John Zaremba was an American actor most !!  1.687132e+09   \n",
       "3   Michael Zarnock is an American writer of verna...  1.687186e+09   \n",
       "4   Adrian Zaw is an American actor best iced on s...  1.686648e+09   \n",
       "..                                                ...           ...   \n",
       "95  Kevin Schon is an American actor, voice  famou...  1.686518e+09   \n",
       "96  Isaac Liev Schreiber is an American actor,  an...  1.687408e+09   \n",
       "97  His production company, Ricky Schroder Product...  1.686664e+09   \n",
       "98  Conrad John Schuck Jr. is an American ersatz s...  1.686705e+09   \n",
       "99  Lenny Schultz is an American retired comedian ...  1.686857e+09   \n",
       "\n",
       "              user      id  \n",
       "0    Jacob Edwards  116739  \n",
       "1     Frank Miller  777572  \n",
       "2   Cynthia Thomas  256787  \n",
       "3     Thomas Welch  146316  \n",
       "4       Gary Green  107473  \n",
       "..             ...     ...  \n",
       "95    James Wilson  988210  \n",
       "96    Ricky Robles  713328  \n",
       "97  Gerald Winters  120116  \n",
       "98   Daniel Jacobs  927767  \n",
       "99     George Leon  787352  \n",
       "\n",
       "[100 rows x 5 columns]"
      ]
     },
     "execution_count": 7,
     "metadata": {},
     "output_type": "execute_result"
    }
   ],
   "source": [
    "model_log"
   ]
  },
  {
   "attachments": {},
   "cell_type": "markdown",
   "id": "26b3a38e-14d9-42ca-a198-d24e67c8f307",
   "metadata": {},
   "source": [
    "## 2.3: Model Owner & mock object"
   ]
  },
  {
   "cell_type": "code",
   "execution_count": 8,
   "id": "cbe05892-4bc8-42d8-819d-f7706c12c035",
   "metadata": {},
   "outputs": [],
   "source": [
    "mock_log = [\n",
    "    {\n",
    "        \"prompt\": \"Lorem ipsum dolor sit amet\",                               # the prompt sent to the model by the user\n",
    "        \"result\": \"Lorem ipsum dolor sit amet, consectetur adipiscing elit\",  # the result generated by the model and sent to the user\n",
    "        \"time\": 12345,                                                        # the timestamp of the user’s query\n",
    "        \"user\": \"FirstnameLastname123\",                                       # username of the user who sent the query\n",
    "        \"id\": 123435                                                          # the id of the user who sent the query\n",
    "    }\n",
    "    for p in prompts[0:100]\n",
    "]\n",
    "    \n",
    "mock_log = pd.DataFrame.from_dict(mock_log)"
   ]
  },
  {
   "cell_type": "code",
   "execution_count": 9,
   "id": "affe57ae-91a9-45b8-9b93-628a8d5fb43d",
   "metadata": {},
   "outputs": [
    {
     "data": {
      "text/html": [
       "<div>\n",
       "<style scoped>\n",
       "    .dataframe tbody tr th:only-of-type {\n",
       "        vertical-align: middle;\n",
       "    }\n",
       "\n",
       "    .dataframe tbody tr th {\n",
       "        vertical-align: top;\n",
       "    }\n",
       "\n",
       "    .dataframe thead th {\n",
       "        text-align: right;\n",
       "    }\n",
       "</style>\n",
       "<table border=\"1\" class=\"dataframe\">\n",
       "  <thead>\n",
       "    <tr style=\"text-align: right;\">\n",
       "      <th></th>\n",
       "      <th>prompt</th>\n",
       "      <th>result</th>\n",
       "      <th>time</th>\n",
       "      <th>user</th>\n",
       "      <th>id</th>\n",
       "    </tr>\n",
       "  </thead>\n",
       "  <tbody>\n",
       "    <tr>\n",
       "      <th>0</th>\n",
       "      <td>Lorem ipsum dolor sit amet</td>\n",
       "      <td>Lorem ipsum dolor sit amet, consectetur adipis...</td>\n",
       "      <td>12345</td>\n",
       "      <td>FirstnameLastname123</td>\n",
       "      <td>123435</td>\n",
       "    </tr>\n",
       "    <tr>\n",
       "      <th>1</th>\n",
       "      <td>Lorem ipsum dolor sit amet</td>\n",
       "      <td>Lorem ipsum dolor sit amet, consectetur adipis...</td>\n",
       "      <td>12345</td>\n",
       "      <td>FirstnameLastname123</td>\n",
       "      <td>123435</td>\n",
       "    </tr>\n",
       "    <tr>\n",
       "      <th>2</th>\n",
       "      <td>Lorem ipsum dolor sit amet</td>\n",
       "      <td>Lorem ipsum dolor sit amet, consectetur adipis...</td>\n",
       "      <td>12345</td>\n",
       "      <td>FirstnameLastname123</td>\n",
       "      <td>123435</td>\n",
       "    </tr>\n",
       "    <tr>\n",
       "      <th>3</th>\n",
       "      <td>Lorem ipsum dolor sit amet</td>\n",
       "      <td>Lorem ipsum dolor sit amet, consectetur adipis...</td>\n",
       "      <td>12345</td>\n",
       "      <td>FirstnameLastname123</td>\n",
       "      <td>123435</td>\n",
       "    </tr>\n",
       "    <tr>\n",
       "      <th>4</th>\n",
       "      <td>Lorem ipsum dolor sit amet</td>\n",
       "      <td>Lorem ipsum dolor sit amet, consectetur adipis...</td>\n",
       "      <td>12345</td>\n",
       "      <td>FirstnameLastname123</td>\n",
       "      <td>123435</td>\n",
       "    </tr>\n",
       "    <tr>\n",
       "      <th>...</th>\n",
       "      <td>...</td>\n",
       "      <td>...</td>\n",
       "      <td>...</td>\n",
       "      <td>...</td>\n",
       "      <td>...</td>\n",
       "    </tr>\n",
       "    <tr>\n",
       "      <th>95</th>\n",
       "      <td>Lorem ipsum dolor sit amet</td>\n",
       "      <td>Lorem ipsum dolor sit amet, consectetur adipis...</td>\n",
       "      <td>12345</td>\n",
       "      <td>FirstnameLastname123</td>\n",
       "      <td>123435</td>\n",
       "    </tr>\n",
       "    <tr>\n",
       "      <th>96</th>\n",
       "      <td>Lorem ipsum dolor sit amet</td>\n",
       "      <td>Lorem ipsum dolor sit amet, consectetur adipis...</td>\n",
       "      <td>12345</td>\n",
       "      <td>FirstnameLastname123</td>\n",
       "      <td>123435</td>\n",
       "    </tr>\n",
       "    <tr>\n",
       "      <th>97</th>\n",
       "      <td>Lorem ipsum dolor sit amet</td>\n",
       "      <td>Lorem ipsum dolor sit amet, consectetur adipis...</td>\n",
       "      <td>12345</td>\n",
       "      <td>FirstnameLastname123</td>\n",
       "      <td>123435</td>\n",
       "    </tr>\n",
       "    <tr>\n",
       "      <th>98</th>\n",
       "      <td>Lorem ipsum dolor sit amet</td>\n",
       "      <td>Lorem ipsum dolor sit amet, consectetur adipis...</td>\n",
       "      <td>12345</td>\n",
       "      <td>FirstnameLastname123</td>\n",
       "      <td>123435</td>\n",
       "    </tr>\n",
       "    <tr>\n",
       "      <th>99</th>\n",
       "      <td>Lorem ipsum dolor sit amet</td>\n",
       "      <td>Lorem ipsum dolor sit amet, consectetur adipis...</td>\n",
       "      <td>12345</td>\n",
       "      <td>FirstnameLastname123</td>\n",
       "      <td>123435</td>\n",
       "    </tr>\n",
       "  </tbody>\n",
       "</table>\n",
       "<p>100 rows × 5 columns</p>\n",
       "</div>"
      ],
      "text/plain": [
       "                        prompt  \\\n",
       "0   Lorem ipsum dolor sit amet   \n",
       "1   Lorem ipsum dolor sit amet   \n",
       "2   Lorem ipsum dolor sit amet   \n",
       "3   Lorem ipsum dolor sit amet   \n",
       "4   Lorem ipsum dolor sit amet   \n",
       "..                         ...   \n",
       "95  Lorem ipsum dolor sit amet   \n",
       "96  Lorem ipsum dolor sit amet   \n",
       "97  Lorem ipsum dolor sit amet   \n",
       "98  Lorem ipsum dolor sit amet   \n",
       "99  Lorem ipsum dolor sit amet   \n",
       "\n",
       "                                               result   time  \\\n",
       "0   Lorem ipsum dolor sit amet, consectetur adipis...  12345   \n",
       "1   Lorem ipsum dolor sit amet, consectetur adipis...  12345   \n",
       "2   Lorem ipsum dolor sit amet, consectetur adipis...  12345   \n",
       "3   Lorem ipsum dolor sit amet, consectetur adipis...  12345   \n",
       "4   Lorem ipsum dolor sit amet, consectetur adipis...  12345   \n",
       "..                                                ...    ...   \n",
       "95  Lorem ipsum dolor sit amet, consectetur adipis...  12345   \n",
       "96  Lorem ipsum dolor sit amet, consectetur adipis...  12345   \n",
       "97  Lorem ipsum dolor sit amet, consectetur adipis...  12345   \n",
       "98  Lorem ipsum dolor sit amet, consectetur adipis...  12345   \n",
       "99  Lorem ipsum dolor sit amet, consectetur adipis...  12345   \n",
       "\n",
       "                    user      id  \n",
       "0   FirstnameLastname123  123435  \n",
       "1   FirstnameLastname123  123435  \n",
       "2   FirstnameLastname123  123435  \n",
       "3   FirstnameLastname123  123435  \n",
       "4   FirstnameLastname123  123435  \n",
       "..                   ...     ...  \n",
       "95  FirstnameLastname123  123435  \n",
       "96  FirstnameLastname123  123435  \n",
       "97  FirstnameLastname123  123435  \n",
       "98  FirstnameLastname123  123435  \n",
       "99  FirstnameLastname123  123435  \n",
       "\n",
       "[100 rows x 5 columns]"
      ]
     },
     "execution_count": 9,
     "metadata": {},
     "output_type": "execute_result"
    }
   ],
   "source": [
    "mock_log"
   ]
  }
 ],
 "metadata": {
  "kernelspec": {
   "display_name": "Python 3 (ipykernel)",
   "language": "python",
   "name": "python3"
  },
  "language_info": {
   "codemirror_mode": {
    "name": "ipython",
    "version": 3
   },
   "file_extension": ".py",
   "mimetype": "text/x-python",
   "name": "python",
   "nbconvert_exporter": "python",
   "pygments_lexer": "ipython3",
   "version": "3.11.3"
  }
 },
 "nbformat": 4,
 "nbformat_minor": 5
}
